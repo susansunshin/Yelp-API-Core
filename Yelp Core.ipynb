{
 "cells": [
  {
   "cell_type": "markdown",
   "id": "2913fb23",
   "metadata": {},
   "source": [
    "# Yelp API Core\n",
    "\n",
    "Susan Shin"
   ]
  },
  {
   "cell_type": "code",
   "execution_count": 1,
   "id": "ef214b11",
   "metadata": {},
   "outputs": [],
   "source": [
    "# Standard Imports\n",
    "import numpy as np\n",
    "import pandas as pd\n",
    "import matplotlib.pyplot as plt\n",
    "import seaborn as sns\n",
    "\n",
    "# Additional Imports\n",
    "import os, json, math, time\n",
    "from yelpapi import YelpAPI\n",
    "from tqdm.notebook import tqdm_notebook"
   ]
  },
  {
   "cell_type": "code",
   "execution_count": 2,
   "id": "6297ff30",
   "metadata": {},
   "outputs": [
    {
     "name": "stdout",
     "output_type": "stream",
     "text": [
      "Requirement already satisfied: yelpapi in /opt/homebrew/Caskroom/miniforge/base/envs/dojo-env/lib/python3.9/site-packages (2.5.0)\r\n",
      "Requirement already satisfied: requests in /opt/homebrew/Caskroom/miniforge/base/envs/dojo-env/lib/python3.9/site-packages (from yelpapi) (2.28.1)\r\n",
      "Requirement already satisfied: idna<4,>=2.5 in /opt/homebrew/Caskroom/miniforge/base/envs/dojo-env/lib/python3.9/site-packages (from requests->yelpapi) (3.4)\r\n",
      "Requirement already satisfied: charset-normalizer<3,>=2 in /opt/homebrew/Caskroom/miniforge/base/envs/dojo-env/lib/python3.9/site-packages (from requests->yelpapi) (2.0.4)\r\n",
      "Requirement already satisfied: urllib3<1.27,>=1.21.1 in /opt/homebrew/Caskroom/miniforge/base/envs/dojo-env/lib/python3.9/site-packages (from requests->yelpapi) (1.26.13)\r\n",
      "Requirement already satisfied: certifi>=2017.4.17 in /opt/homebrew/Caskroom/miniforge/base/envs/dojo-env/lib/python3.9/site-packages (from requests->yelpapi) (2022.9.24)\r\n"
     ]
    }
   ],
   "source": [
    "!pip install yelpapi"
   ]
  },
  {
   "cell_type": "code",
   "execution_count": 3,
   "id": "06cc91b1",
   "metadata": {},
   "outputs": [],
   "source": [
    "with open('/Users/susanshin/.secret/yelp_api.json','r') as f:\n",
    "    login = json.load(f)"
   ]
  },
  {
   "cell_type": "code",
   "execution_count": 4,
   "id": "fff43eea",
   "metadata": {},
   "outputs": [
    {
     "data": {
      "text/plain": [
       "dict_keys(['client-id', 'api-key'])"
      ]
     },
     "execution_count": 4,
     "metadata": {},
     "output_type": "execute_result"
    }
   ],
   "source": [
    "login.keys()"
   ]
  },
  {
   "cell_type": "code",
   "execution_count": 7,
   "id": "50d0bf29",
   "metadata": {},
   "outputs": [],
   "source": [
    "yelp = YelpAPI(login['api-key'],timeout_s= 5.0)"
   ]
  },
  {
   "cell_type": "code",
   "execution_count": 8,
   "id": "39aeb388",
   "metadata": {},
   "outputs": [],
   "source": [
    "location = 'San Francisco, CA 94133'\n",
    "term = 'italian'"
   ]
  },
  {
   "cell_type": "code",
   "execution_count": 10,
   "id": "29d4a2ab",
   "metadata": {},
   "outputs": [],
   "source": [
    "FOLDER ='Data/'\n",
    "os.makedirs(FOLDER,exist_ok=True)"
   ]
  },
  {
   "cell_type": "code",
   "execution_count": 11,
   "id": "46dab250",
   "metadata": {},
   "outputs": [
    {
     "data": {
      "text/plain": [
       "'San Francisco'"
      ]
     },
     "execution_count": 11,
     "metadata": {},
     "output_type": "execute_result"
    }
   ],
   "source": [
    "location.split(',')[0]"
   ]
  },
  {
   "cell_type": "code",
   "execution_count": 13,
   "id": "ea4dd05c",
   "metadata": {},
   "outputs": [],
   "source": [
    "JSON_FILE = FOLDER+f\"{location.split(',')[0]}-{term}.json\""
   ]
  },
  {
   "cell_type": "code",
   "execution_count": 14,
   "id": "66f6c56b",
   "metadata": {
    "scrolled": true
   },
   "outputs": [
    {
     "data": {
      "text/plain": [
       "'Data/San Francisco-italian.json'"
      ]
     },
     "execution_count": 14,
     "metadata": {},
     "output_type": "execute_result"
    }
   ],
   "source": [
    "JSON_FILE"
   ]
  },
  {
   "cell_type": "code",
   "execution_count": 16,
   "id": "ceba7547",
   "metadata": {},
   "outputs": [
    {
     "name": "stdout",
     "output_type": "stream",
     "text": [
      "[i]Data/San Francisco-italian.json already exists\n"
     ]
    }
   ],
   "source": [
    "file_exists = os.path.isfile(JSON_FILE)\n",
    "\n",
    "if file_exists == False:\n",
    "    folder = os.path.dirname(JSON_FILE)\n",
    "    if len(folder)>0:\n",
    "        os.makedirs(folder, exist_ok=True)\n",
    "        print(f\"[i] {JSON_FILE} not found. Saving empty list to file.\")\n",
    "        with open (JSON_FILE, 'w') as f:\n",
    "            json.dump([],f)\n",
    "else:\n",
    "    print(f\"[i]{JSON_FILE} already exists\")"
   ]
  },
  {
   "cell_type": "code",
   "execution_count": 17,
   "id": "65aa76b8",
   "metadata": {},
   "outputs": [],
   "source": [
    "results = yelp.search_query(term = term,location = location)"
   ]
  },
  {
   "cell_type": "code",
   "execution_count": 18,
   "id": "99ea841d",
   "metadata": {},
   "outputs": [
    {
     "data": {
      "text/plain": [
       "dict"
      ]
     },
     "execution_count": 18,
     "metadata": {},
     "output_type": "execute_result"
    }
   ],
   "source": [
    "type(results)"
   ]
  },
  {
   "cell_type": "code",
   "execution_count": 19,
   "id": "29ef3546",
   "metadata": {},
   "outputs": [
    {
     "data": {
      "text/plain": [
       "3"
      ]
     },
     "execution_count": 19,
     "metadata": {},
     "output_type": "execute_result"
    }
   ],
   "source": [
    "len(results)"
   ]
  },
  {
   "cell_type": "code",
   "execution_count": 20,
   "id": "1cb9a3c7",
   "metadata": {},
   "outputs": [
    {
     "data": {
      "text/plain": [
       "dict_keys(['businesses', 'total', 'region'])"
      ]
     },
     "execution_count": 20,
     "metadata": {},
     "output_type": "execute_result"
    }
   ],
   "source": [
    "results.keys()"
   ]
  },
  {
   "cell_type": "code",
   "execution_count": 21,
   "id": "dc0f9afa",
   "metadata": {},
   "outputs": [
    {
     "data": {
      "text/plain": [
       "463"
      ]
     },
     "execution_count": 21,
     "metadata": {},
     "output_type": "execute_result"
    }
   ],
   "source": [
    "results[\"total\"]"
   ]
  },
  {
   "cell_type": "code",
   "execution_count": 22,
   "id": "661fb5e9",
   "metadata": {},
   "outputs": [
    {
     "data": {
      "text/plain": [
       "20"
      ]
     },
     "execution_count": 22,
     "metadata": {},
     "output_type": "execute_result"
    }
   ],
   "source": [
    "results_per_page = len(results['businesses'])\n",
    "results_per_page"
   ]
  },
  {
   "cell_type": "code",
   "execution_count": 23,
   "id": "ac707192",
   "metadata": {},
   "outputs": [
    {
     "data": {
      "text/plain": [
       "24"
      ]
     },
     "execution_count": 23,
     "metadata": {},
     "output_type": "execute_result"
    }
   ],
   "source": [
    "import time, math\n",
    "\n",
    "n_pages = math.ceil((results['total'])/ results_per_page)\n",
    "n_pages"
   ]
  },
  {
   "cell_type": "code",
   "execution_count": 24,
   "id": "b910ec52",
   "metadata": {},
   "outputs": [
    {
     "data": {
      "application/vnd.jupyter.widget-view+json": {
       "model_id": "06689b92896143438005e96d3e92168e",
       "version_major": 2,
       "version_minor": 0
      },
      "text/plain": [
       "  0%|          | 0/24 [00:00<?, ?it/s]"
      ]
     },
     "metadata": {},
     "output_type": "display_data"
    }
   ],
   "source": [
    "for i in tqdm_notebook( range(1,n_pages+1)):\n",
    "    try:\n",
    "        time.sleep(.2)\n",
    "        with open (JSON_FILE, 'r') as f:\n",
    "            previous_results = json.load(f)\n",
    "        n_results = len(previous_results)\n",
    "        results = yelp.search_query(location = location, term = term, offest = n_results+1)\n",
    "        previous_results.extend(results['businesses'])\n",
    "        with open (JSON_FILE, 'w') as f:\n",
    "            json.dump(previous_results,f)\n",
    "    except Exception as e:\n",
    "        print('[!] ERROR:', e)\n",
    "        "
   ]
  },
  {
   "cell_type": "code",
   "execution_count": 25,
   "id": "6e1f151e",
   "metadata": {},
   "outputs": [
    {
     "data": {
      "text/html": [
       "<div>\n",
       "<style scoped>\n",
       "    .dataframe tbody tr th:only-of-type {\n",
       "        vertical-align: middle;\n",
       "    }\n",
       "\n",
       "    .dataframe tbody tr th {\n",
       "        vertical-align: top;\n",
       "    }\n",
       "\n",
       "    .dataframe thead th {\n",
       "        text-align: right;\n",
       "    }\n",
       "</style>\n",
       "<table border=\"1\" class=\"dataframe\">\n",
       "  <thead>\n",
       "    <tr style=\"text-align: right;\">\n",
       "      <th></th>\n",
       "      <th>id</th>\n",
       "      <th>alias</th>\n",
       "      <th>name</th>\n",
       "      <th>image_url</th>\n",
       "      <th>is_closed</th>\n",
       "      <th>url</th>\n",
       "      <th>review_count</th>\n",
       "      <th>categories</th>\n",
       "      <th>rating</th>\n",
       "      <th>coordinates</th>\n",
       "      <th>transactions</th>\n",
       "      <th>price</th>\n",
       "      <th>location</th>\n",
       "      <th>phone</th>\n",
       "      <th>display_phone</th>\n",
       "      <th>distance</th>\n",
       "    </tr>\n",
       "  </thead>\n",
       "  <tbody>\n",
       "    <tr>\n",
       "      <th>0</th>\n",
       "      <td>8dUaybEPHsZMgr1iKgqgMQ</td>\n",
       "      <td>sotto-mare-san-francisco-4</td>\n",
       "      <td>Sotto Mare</td>\n",
       "      <td>https://s3-media3.fl.yelpcdn.com/bphoto/o3hIcG...</td>\n",
       "      <td>False</td>\n",
       "      <td>https://www.yelp.com/biz/sotto-mare-san-franci...</td>\n",
       "      <td>4695</td>\n",
       "      <td>[{'alias': 'seafood', 'title': 'Seafood'}, {'a...</td>\n",
       "      <td>4.5</td>\n",
       "      <td>{'latitude': 37.79979, 'longitude': -122.40834}</td>\n",
       "      <td>[delivery, pickup]</td>\n",
       "      <td>$$</td>\n",
       "      <td>{'address1': '552 Green St', 'address2': '', '...</td>\n",
       "      <td>14153983181</td>\n",
       "      <td>(415) 398-3181</td>\n",
       "      <td>421.499100</td>\n",
       "    </tr>\n",
       "    <tr>\n",
       "      <th>1</th>\n",
       "      <td>K9XVDlPNhrrSVEJN7uWqJQ</td>\n",
       "      <td>the-italian-homemade-company-san-francisco-8</td>\n",
       "      <td>The Italian Homemade Company</td>\n",
       "      <td>https://s3-media2.fl.yelpcdn.com/bphoto/_5-c4n...</td>\n",
       "      <td>False</td>\n",
       "      <td>https://www.yelp.com/biz/the-italian-homemade-...</td>\n",
       "      <td>1818</td>\n",
       "      <td>[{'alias': 'italian', 'title': 'Italian'}, {'a...</td>\n",
       "      <td>4.5</td>\n",
       "      <td>{'latitude': 37.801752, 'longitude': -122.411851}</td>\n",
       "      <td>[delivery, pickup]</td>\n",
       "      <td>$$</td>\n",
       "      <td>{'address1': '716 Columbus Ave', 'address2': '...</td>\n",
       "      <td>14157128874</td>\n",
       "      <td>(415) 712-8874</td>\n",
       "      <td>218.158166</td>\n",
       "    </tr>\n",
       "    <tr>\n",
       "      <th>2</th>\n",
       "      <td>o43B4DnnQbvkdDK6AVafQg</td>\n",
       "      <td>piccolo-forno-san-francisco</td>\n",
       "      <td>Piccolo Forno</td>\n",
       "      <td>https://s3-media2.fl.yelpcdn.com/bphoto/f5cIsI...</td>\n",
       "      <td>False</td>\n",
       "      <td>https://www.yelp.com/biz/piccolo-forno-san-fra...</td>\n",
       "      <td>833</td>\n",
       "      <td>[{'alias': 'pizza', 'title': 'Pizza'}, {'alias...</td>\n",
       "      <td>4.5</td>\n",
       "      <td>{'latitude': 37.8013699308642, 'longitude': -1...</td>\n",
       "      <td>[delivery, pickup]</td>\n",
       "      <td>$$</td>\n",
       "      <td>{'address1': '725 Columbus Ave', 'address2': '...</td>\n",
       "      <td>14157570087</td>\n",
       "      <td>(415) 757-0087</td>\n",
       "      <td>258.085989</td>\n",
       "    </tr>\n",
       "    <tr>\n",
       "      <th>3</th>\n",
       "      <td>6e7gMgVJRQ5rtkIbTF6TLQ</td>\n",
       "      <td>trattoria-contadina-san-francisco</td>\n",
       "      <td>Trattoria Contadina</td>\n",
       "      <td>https://s3-media4.fl.yelpcdn.com/bphoto/9mKRj1...</td>\n",
       "      <td>False</td>\n",
       "      <td>https://www.yelp.com/biz/trattoria-contadina-s...</td>\n",
       "      <td>1441</td>\n",
       "      <td>[{'alias': 'italian', 'title': 'Italian'}]</td>\n",
       "      <td>4.0</td>\n",
       "      <td>{'latitude': 37.80018, 'longitude': -122.41228}</td>\n",
       "      <td>[delivery]</td>\n",
       "      <td>$$</td>\n",
       "      <td>{'address1': '1800 Mason St', 'address2': '', ...</td>\n",
       "      <td>14159825728</td>\n",
       "      <td>(415) 982-5728</td>\n",
       "      <td>383.428067</td>\n",
       "    </tr>\n",
       "    <tr>\n",
       "      <th>4</th>\n",
       "      <td>I8T8aoAsFQYwQiRvLBayFA</td>\n",
       "      <td>il-casaro-pizzeria-and-mozzarella-bar-north-be...</td>\n",
       "      <td>Il Casaro Pizzeria &amp; Mozzarella Bar - North Beach</td>\n",
       "      <td>https://s3-media4.fl.yelpcdn.com/bphoto/ef3tF8...</td>\n",
       "      <td>False</td>\n",
       "      <td>https://www.yelp.com/biz/il-casaro-pizzeria-an...</td>\n",
       "      <td>1592</td>\n",
       "      <td>[{'alias': 'italian', 'title': 'Italian'}, {'a...</td>\n",
       "      <td>4.5</td>\n",
       "      <td>{'latitude': 37.79852, 'longitude': -122.40739}</td>\n",
       "      <td>[delivery, pickup]</td>\n",
       "      <td>$$</td>\n",
       "      <td>{'address1': '348 Columbus Ave', 'address2': '...</td>\n",
       "      <td>14156779455</td>\n",
       "      <td>(415) 677-9455</td>\n",
       "      <td>580.994463</td>\n",
       "    </tr>\n",
       "  </tbody>\n",
       "</table>\n",
       "</div>"
      ],
      "text/plain": [
       "                       id                                              alias  \\\n",
       "0  8dUaybEPHsZMgr1iKgqgMQ                         sotto-mare-san-francisco-4   \n",
       "1  K9XVDlPNhrrSVEJN7uWqJQ       the-italian-homemade-company-san-francisco-8   \n",
       "2  o43B4DnnQbvkdDK6AVafQg                        piccolo-forno-san-francisco   \n",
       "3  6e7gMgVJRQ5rtkIbTF6TLQ                  trattoria-contadina-san-francisco   \n",
       "4  I8T8aoAsFQYwQiRvLBayFA  il-casaro-pizzeria-and-mozzarella-bar-north-be...   \n",
       "\n",
       "                                                name  \\\n",
       "0                                         Sotto Mare   \n",
       "1                       The Italian Homemade Company   \n",
       "2                                      Piccolo Forno   \n",
       "3                                Trattoria Contadina   \n",
       "4  Il Casaro Pizzeria & Mozzarella Bar - North Beach   \n",
       "\n",
       "                                           image_url  is_closed  \\\n",
       "0  https://s3-media3.fl.yelpcdn.com/bphoto/o3hIcG...      False   \n",
       "1  https://s3-media2.fl.yelpcdn.com/bphoto/_5-c4n...      False   \n",
       "2  https://s3-media2.fl.yelpcdn.com/bphoto/f5cIsI...      False   \n",
       "3  https://s3-media4.fl.yelpcdn.com/bphoto/9mKRj1...      False   \n",
       "4  https://s3-media4.fl.yelpcdn.com/bphoto/ef3tF8...      False   \n",
       "\n",
       "                                                 url  review_count  \\\n",
       "0  https://www.yelp.com/biz/sotto-mare-san-franci...          4695   \n",
       "1  https://www.yelp.com/biz/the-italian-homemade-...          1818   \n",
       "2  https://www.yelp.com/biz/piccolo-forno-san-fra...           833   \n",
       "3  https://www.yelp.com/biz/trattoria-contadina-s...          1441   \n",
       "4  https://www.yelp.com/biz/il-casaro-pizzeria-an...          1592   \n",
       "\n",
       "                                          categories  rating  \\\n",
       "0  [{'alias': 'seafood', 'title': 'Seafood'}, {'a...     4.5   \n",
       "1  [{'alias': 'italian', 'title': 'Italian'}, {'a...     4.5   \n",
       "2  [{'alias': 'pizza', 'title': 'Pizza'}, {'alias...     4.5   \n",
       "3         [{'alias': 'italian', 'title': 'Italian'}]     4.0   \n",
       "4  [{'alias': 'italian', 'title': 'Italian'}, {'a...     4.5   \n",
       "\n",
       "                                         coordinates        transactions  \\\n",
       "0    {'latitude': 37.79979, 'longitude': -122.40834}  [delivery, pickup]   \n",
       "1  {'latitude': 37.801752, 'longitude': -122.411851}  [delivery, pickup]   \n",
       "2  {'latitude': 37.8013699308642, 'longitude': -1...  [delivery, pickup]   \n",
       "3    {'latitude': 37.80018, 'longitude': -122.41228}          [delivery]   \n",
       "4    {'latitude': 37.79852, 'longitude': -122.40739}  [delivery, pickup]   \n",
       "\n",
       "  price                                           location        phone  \\\n",
       "0    $$  {'address1': '552 Green St', 'address2': '', '...  14153983181   \n",
       "1    $$  {'address1': '716 Columbus Ave', 'address2': '...  14157128874   \n",
       "2    $$  {'address1': '725 Columbus Ave', 'address2': '...  14157570087   \n",
       "3    $$  {'address1': '1800 Mason St', 'address2': '', ...  14159825728   \n",
       "4    $$  {'address1': '348 Columbus Ave', 'address2': '...  14156779455   \n",
       "\n",
       "    display_phone    distance  \n",
       "0  (415) 398-3181  421.499100  \n",
       "1  (415) 712-8874  218.158166  \n",
       "2  (415) 757-0087  258.085989  \n",
       "3  (415) 982-5728  383.428067  \n",
       "4  (415) 677-9455  580.994463  "
      ]
     },
     "execution_count": 25,
     "metadata": {},
     "output_type": "execute_result"
    }
   ],
   "source": [
    "df = pd.read_json(JSON_FILE)\n",
    "df.head()"
   ]
  },
  {
   "cell_type": "code",
   "execution_count": 27,
   "id": "fb2f4b41",
   "metadata": {},
   "outputs": [
    {
     "data": {
      "text/plain": [
       "'Data/San Francisco-italian.csv.gz'"
      ]
     },
     "execution_count": 27,
     "metadata": {},
     "output_type": "execute_result"
    }
   ],
   "source": [
    "csv_file = JSON_FILE.replace('.json', '.csv.gz')\n",
    "csv_file"
   ]
  },
  {
   "cell_type": "code",
   "execution_count": 28,
   "id": "ee5d1dcb",
   "metadata": {},
   "outputs": [],
   "source": [
    "df.to_csv(csv_file, compression = 'gzip', index = False)"
   ]
  }
 ],
 "metadata": {
  "kernelspec": {
   "display_name": "Python (dojo-env)",
   "language": "python",
   "name": "dojo-env"
  },
  "language_info": {
   "codemirror_mode": {
    "name": "ipython",
    "version": 3
   },
   "file_extension": ".py",
   "mimetype": "text/x-python",
   "name": "python",
   "nbconvert_exporter": "python",
   "pygments_lexer": "ipython3",
   "version": "3.9.15"
  },
  "toc": {
   "base_numbering": 1,
   "nav_menu": {},
   "number_sections": true,
   "sideBar": true,
   "skip_h1_title": false,
   "title_cell": "Table of Contents",
   "title_sidebar": "Contents",
   "toc_cell": false,
   "toc_position": {},
   "toc_section_display": true,
   "toc_window_display": false
  }
 },
 "nbformat": 4,
 "nbformat_minor": 5
}
